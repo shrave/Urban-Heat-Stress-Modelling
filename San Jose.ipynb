{
 "cells": [
  {
   "cell_type": "markdown",
   "id": "ce871cca",
   "metadata": {},
   "source": [
    "### Load Data and convert to dataframe."
   ]
  },
  {
   "cell_type": "code",
   "execution_count": 4,
   "id": "f5c09b5e",
   "metadata": {},
   "outputs": [],
   "source": [
    "import pandas as pd\n",
    "import numpy as np\n",
    "from sklearn.preprocessing import MinMaxScaler\n",
    "from sklearn.model_selection import train_test_split\n",
    "from sklearn.linear_model import LinearRegression\n",
    "from sklearn.ensemble import RandomForestRegressor\n",
    "from sklearn.metrics import mean_squared_error\n",
    "from sklearn.svm import SVC\n",
    "from sklearn.ensemble import RandomForestClassifier\n",
    "from sklearn.metrics import f1_score\n",
    "from sklearn.linear_model import LogisticRegression\n",
    "\n",
    "\n",
    "\n",
    "\n",
    "def load_city_file(file_name):\n",
    "    city = pd.read_excel(file_name).T\n",
    "    city['County Name'] = city.index\n",
    "    city.columns = city.values.tolist()[0]\n",
    "    city = city.rename(columns={'Variables': 'County Name'})\n",
    "    city = city.reset_index(drop=True)\n",
    "    city = city.drop(0)\n",
    "    return city\n",
    "\n",
    "def process_tract_number(tract_number):\n",
    "    tract_number = float(tract_number)\n",
    "    return str(int(tract_number*100))\n",
    "\n",
    "def extract_tract_number(string):\n",
    "    tract_part = string.split(',')[0]\n",
    "    tract_number = tract_part.split(' ')[-1]\n",
    "    tract_number = process_tract_number(tract_number)\n",
    "    return tract_number\n",
    "\n",
    "\n",
    "def add_temperature_values(temperatures, city_df, city_name):\n",
    "    city_merged = pd.merge(temperatures, city_df, on='County codes', how='inner')\n",
    "    #Filter only that city's county codes. \n",
    "    city_merged = city_merged[city_merged['city'].isin([city_name])]\n",
    "    return city_merged\n",
    "\n",
    "def retain_usable_variables(city_data):\n",
    "    columns_to_drop = ['city', 'urban heat island effect (temperature in degrees C)', 'census tract number', 'County codes', 'County Name']\n",
    "    city_data_clean = city_data.drop(columns=columns_to_drop)\n",
    "    return city_data_clean\n",
    "\n",
    "def string_to_float(string):\n",
    "    if string == '-':\n",
    "        return float(0)\n",
    "    if type(string) == int:\n",
    "        return string\n",
    "    return float(string.rstrip('%'))\n",
    "\n",
    "def change_with_commas(string_with_commas):\n",
    "    if type(string_with_commas) == int:\n",
    "        return string_with_commas\n",
    "    return int(string_with_commas.replace(',', ''))\n",
    "\n",
    "def preprocess_features(city_data):\n",
    "    # Here we do normalisation, etc to make it fit to pass it through a ML model and do data exploration.\n",
    "    # For those quanities which are in percentages, we apply min-max normalisation. \n",
    "    # columns_to_normalize = ['2-or-more-unit structures', 'Renter-occupied housing units', 'Uninsured population (health)', 'Population below poverty line']\n",
    "    columns_to_normalize = ['2unit', 'renter', 'uninsured', 'poverty']\n",
    "    # loop for each column type. convert them to int, remove %. \n",
    "    for col_name in columns_to_normalize:\n",
    "        city_data[col_name] = city_data[col_name].apply(string_to_float)\n",
    "        # print(city_data[col_name])\n",
    "        scaler = MinMaxScaler()\n",
    "        city_data[col_name] = scaler.fit_transform(city_data[col_name].values.reshape(-1,1))\n",
    "    columns_with_commas = ['housing', '65years', 'risk-factors', 'black']\n",
    "    for col_name in columns_with_commas:\n",
    "        city_data[col_name] = city_data[col_name].apply(change_with_commas)\n",
    "    \n",
    "    city_data = retain_usable_variables(city_data)\n",
    "    city_data = city_data.astype(float)\n",
    "    return city_data\n",
    "\n",
    "def convert_everything_numpy(city_data):\n",
    "    y = city_data['urban heat island effect (temperature in degrees F)'].to_numpy()\n",
    "    X = city_data.drop('urban heat island effect (temperature in degrees F)', axis=1).to_numpy()\n",
    "    return X, y"
   ]
  },
  {
   "cell_type": "code",
   "execution_count": 65,
   "id": "33e56c97",
   "metadata": {},
   "outputs": [],
   "source": [
    "temperatures = pd.read_excel('temperatures.xlsx', sheet_name='UHI')\n",
    "temperatures['County codes'] = temperatures['census tract number'].apply(lambda x: str(x)[-6:])\n",
    "\n",
    "san_jose = load_city_file('San Jose.xlsx')\n",
    "san_jose['County codes'] = san_jose['County Name'].apply(extract_tract_number)\n",
    "san_jose['County codes'] = san_jose['County codes'].apply(lambda x: str(x).zfill(6))\n",
    "san_jose_data = add_temperature_values(temperatures, san_jose, 'San Jose')\n",
    "san_jose_data = preprocess_features(san_jose_data)\n",
    "\n",
    "X_sanjose, y_sanjose = convert_everything_numpy(san_jose_data)"
   ]
  },
  {
   "cell_type": "code",
   "execution_count": 66,
   "id": "c2cb0519",
   "metadata": {},
   "outputs": [
    {
     "data": {
      "text/plain": [
       "(336,)"
      ]
     },
     "execution_count": 66,
     "metadata": {},
     "output_type": "execute_result"
    }
   ],
   "source": [
    "y_sanjose.shape"
   ]
  },
  {
   "cell_type": "markdown",
   "id": "0c1d2102",
   "metadata": {},
   "source": [
    "### Feature selection"
   ]
  },
  {
   "cell_type": "code",
   "execution_count": 46,
   "id": "b843f867",
   "metadata": {},
   "outputs": [
    {
     "name": "stdout",
     "output_type": "stream",
     "text": [
      "Best set: (1, 3, 6, 7, 9), best score: 0.0504453251211916\n"
     ]
    }
   ],
   "source": [
    "from itertools import chain, combinations\n",
    "\n",
    "def powerset(iterable):\n",
    "    s = list(iterable)\n",
    "    return chain.from_iterable(combinations(s, r) for r in range(2, len(s)+1))\n",
    "\n",
    "import numpy as np\n",
    "from sklearn.linear_model import LinearRegression\n",
    "from sklearn.datasets import make_regression\n",
    "from sklearn.model_selection import train_test_split\n",
    "\n",
    "# Create a demo set with 10 features and split into train/test\n",
    "# X, y = make_regression(n_features=10, n_informative=4)\n",
    "X_train, X_test, y_train, y_test = train_test_split(X_sanjose, y_sanjose)\n",
    "\n",
    "reg = LinearRegression()\n",
    "\n",
    "best_features = None\n",
    "best_score = -np.inf\n",
    "\n",
    "# Iterate over all possible sets of variables\n",
    "for c in powerset(range(X.shape[1])):\n",
    "\n",
    "    reg.fit(X_train[:, c], y_train)\n",
    "\n",
    "    # The \"best\" score is the one that maximizes the coefficient of determination\n",
    "    if (score := reg.score(X_test[:, c], y_test)) > best_score:\n",
    "        best_score = score\n",
    "        best_features = c\n",
    "\n",
    "print(f\"Best set: {best_features}, best score: {best_score}\")"
   ]
  },
  {
   "cell_type": "code",
   "execution_count": 18,
   "id": "67678192",
   "metadata": {},
   "outputs": [],
   "source": [
    "#Another feature selector\n",
    "\n",
    "from sklearn.feature_selection import RFECV\n",
    "selector = RFECV(reg, step=1, cv=5)\n",
    "selector = selector.fit(X, y)\n"
   ]
  },
  {
   "cell_type": "code",
   "execution_count": 19,
   "id": "322d8e81",
   "metadata": {},
   "outputs": [
    {
     "data": {
      "text/plain": [
       "array([7, 4, 6, 1, 2, 5, 1, 1, 1, 3])"
      ]
     },
     "execution_count": 19,
     "metadata": {},
     "output_type": "execute_result"
    }
   ],
   "source": [
    "selector.ranking_"
   ]
  },
  {
   "cell_type": "code",
   "execution_count": 20,
   "id": "7d30e67f",
   "metadata": {},
   "outputs": [
    {
     "data": {
      "text/plain": [
       "array([False, False, False,  True, False, False,  True,  True,  True,\n",
       "       False])"
      ]
     },
     "execution_count": 20,
     "metadata": {},
     "output_type": "execute_result"
    }
   ],
   "source": [
    "selector.support_"
   ]
  },
  {
   "cell_type": "code",
   "execution_count": 44,
   "id": "eb9a3d7e",
   "metadata": {},
   "outputs": [
    {
     "data": {
      "text/plain": [
       "(336, 6)"
      ]
     },
     "execution_count": 44,
     "metadata": {},
     "output_type": "execute_result"
    }
   ],
   "source": [
    "# 3, 6, 7, 8\n",
    "# selected_dimensions = [3, 6, 7, 8]\n",
    "selected_dimensions = [0, 1, 2, 4, 5, 9]\n",
    "# selected_dimensions = [0, 1, 2, 3, 9]\n",
    "# selected_dimensions = [0, 4, 5, 9]\n",
    "# selected_dimensions = [0, 9]\n",
    "\n",
    "X_filtered_sanjose = X_sanjose[:, selected_dimensions]\n",
    "X_filtered_sanjose.shape"
   ]
  },
  {
   "cell_type": "markdown",
   "id": "2cbdfadd",
   "metadata": {},
   "source": [
    "### Train model with filtered features"
   ]
  },
  {
   "cell_type": "code",
   "execution_count": 37,
   "id": "51d3c6c7",
   "metadata": {
    "scrolled": false
   },
   "outputs": [
    {
     "name": "stdout",
     "output_type": "stream",
     "text": [
      "0\n",
      "0.03712243386393077\n",
      "1\n",
      "0.010684083787032672\n",
      "2\n",
      "0.015005089535567784\n",
      "3\n",
      "0.012906870632203526\n",
      "4\n",
      "0.029581475763196474\n",
      "5\n",
      "0.025742768102779423\n",
      "6\n",
      "0.0073167525319974835\n",
      "7\n",
      "0.0009626074648934058\n",
      "8\n",
      "0.0034899290044680953\n",
      "9\n",
      "0.02337118844383279\n"
     ]
    }
   ],
   "source": [
    "# Check variability of each dimension.\n",
    "selected_dimensions = [0, 1, 2, 3, 4,5, 6, 7, 8, 9]\n",
    "for k in selected_dimensions:\n",
    "    \n",
    "    print(k)\n",
    "    X_filtered_sanjose = X_sanjose[:, [k]]\n",
    "    # Test train split.\n",
    "    # X_train, X_test, y_train, y_test = train_test_split(X_filtered_sanjose, y_sanjose, test_size=0.3, random_state=108)\n",
    "    X_train, X_test, y_train, y_test = train_test_split(X_filtered_sanjose, y_sanjose, test_size=0.3, random_state=108)\n",
    "    model = LinearRegression()\n",
    "    model.fit(X_train, y_train)\n",
    "    y_score = model.score(X_test, y_test)\n",
    "    print(y_score)"
   ]
  },
  {
   "cell_type": "code",
   "execution_count": 26,
   "id": "8625019a",
   "metadata": {},
   "outputs": [
    {
     "data": {
      "text/plain": [
       "0.03992133549888566"
      ]
     },
     "execution_count": 26,
     "metadata": {},
     "output_type": "execute_result"
    }
   ],
   "source": [
    "model = LinearRegression()\n",
    "model.fit(X_train, y_train)\n",
    "y_score = model.score(X_test, y_test)\n",
    "y_score"
   ]
  },
  {
   "cell_type": "code",
   "execution_count": 67,
   "id": "2bdd95ab",
   "metadata": {},
   "outputs": [
    {
     "name": "stdout",
     "output_type": "stream",
     "text": [
      "-0.18714027337878814\n"
     ]
    }
   ],
   "source": [
    "X_train, X_test, y_train, y_test = train_test_split(X_sanjose, y_sanjose, test_size=0.3, random_state=108)\n",
    "from sklearn.ensemble import RandomForestRegressor\n",
    "model = RandomForestRegressor()\n",
    "model.fit(X_train, y_train)\n",
    "y_score = model.score(X_test, y_test)\n",
    "print(y_score)"
   ]
  },
  {
   "cell_type": "code",
   "execution_count": 54,
   "id": "86970c4d",
   "metadata": {},
   "outputs": [
    {
     "name": "stdout",
     "output_type": "stream",
     "text": [
      "Selected features indices: [2, 3, 4, 5, 6]\n"
     ]
    },
    {
     "data": {
      "text/plain": [
       "0.10092429196821384"
      ]
     },
     "execution_count": 54,
     "metadata": {},
     "output_type": "execute_result"
    }
   ],
   "source": [
    "# !pip install mlxtend\n",
    "from mlxtend.feature_selection import SequentialFeatureSelector as SFS\n",
    "\n",
    "# lr = LinearRegression()\n",
    "from sklearn.ensemble import RandomForestRegressor\n",
    "lr = RandomForestRegressor()\n",
    "sfs = SFS(lr,\n",
    "          k_features=(1, len(X_train[0])),  # Select range of features to consider\n",
    "          scoring='r2',  # Use R-squared for scoring\n",
    "          cv=5) \n",
    "\n",
    "sfs = sfs.fit(X_train, y_train)\n",
    "selected_features = list(sfs.k_feature_idx_)\n",
    "print(\"Selected features indices:\", selected_features)\n",
    "\n",
    "# Transform the data to include only selected features\n",
    "X_train_selected = sfs.transform(X_train)\n",
    "X_test_selected = sfs.transform(X_test)\n",
    "\n",
    "# Fit the model on the selected features\n",
    "lr.fit(X_train_selected, y_train)\n",
    "\n",
    "# Evaluate the model on the test set\n",
    "r_squared = lr.score(X_test_selected, y_test)\n",
    "r_squared"
   ]
  },
  {
   "cell_type": "markdown",
   "id": "87996c45",
   "metadata": {},
   "source": [
    "### Binning features and converting to classification problem"
   ]
  },
  {
   "cell_type": "code",
   "execution_count": 68,
   "id": "a5d99abf",
   "metadata": {},
   "outputs": [
    {
     "name": "stdout",
     "output_type": "stream",
     "text": [
      "[6.48864 7.14024 7.79184 8.44344 9.09504 9.74664]\n",
      "[0, 1, 2, 3, 4, 5]\n",
      "{3: 236, 4: 15, 5: 8, 2: 51, 1: 20, 0: 6}\n"
     ]
    }
   ],
   "source": [
    "bin_edges = [5.0, 7.0, 9.0, 11.0]\n",
    "# bin_edges = [5.0, 6.0, 7.0, 8.0, 9.0, 11.0]\n",
    "hist, bin_edges = np.histogram(y_sanjose.tolist(), bins=5)\n",
    "print(bin_edges)\n",
    "import bisect\n",
    "\n",
    "# score_ranges =  [0., 0.3, 0.5, 0.8, 1.0]\n",
    "binning = []\n",
    "\n",
    "for a in y_sanjose.tolist():\n",
    "    binning.append(bisect.bisect_left(bin_edges, a))\n",
    "# print(set(list(categorical_vars)))\n",
    "print(list(set(binning)))\n",
    "d = {x:binning.count(x) for x in binning}\n",
    "print(d)\n",
    "y_sanjose = pd.DataFrame(binning)"
   ]
  },
  {
   "cell_type": "code",
   "execution_count": 78,
   "id": "4db39f7e",
   "metadata": {},
   "outputs": [
    {
     "data": {
      "text/plain": [
       "0.693069306930693"
      ]
     },
     "execution_count": 78,
     "metadata": {},
     "output_type": "execute_result"
    }
   ],
   "source": [
    "X_train, X_test, y_train, y_test = train_test_split(X_sanjose, y_sanjose, test_size=0.3, random_state=108)\n",
    "from sklearn.ensemble import RandomForestClassifier\n",
    "model = RandomForestClassifier()\n",
    "from sklearn.metrics import f1_score\n",
    "# print(y_train)\n",
    "model.fit(X_train, y_train)\n",
    "y_score = model.predict(X_test)\n",
    "# print(y_test)\n",
    "# print(y_score)\n",
    "f1 = f1_score(y_test, y_score, average='micro')\n",
    "f1"
   ]
  },
  {
   "cell_type": "code",
   "execution_count": 58,
   "id": "648e7ce9",
   "metadata": {},
   "outputs": [
    {
     "name": "stdout",
     "output_type": "stream",
     "text": [
      "Selected features indices: [0]\n"
     ]
    },
    {
     "data": {
      "text/plain": [
       "0.5476190476190477"
      ]
     },
     "execution_count": 58,
     "metadata": {},
     "output_type": "execute_result"
    }
   ],
   "source": [
    "import warnings\n",
    "warnings.filterwarnings('ignore')\n",
    "\n",
    "X_train, X_test, y_train, y_test = train_test_split(X_sanjose, y_sanjose)\n",
    "# !pip install mlxtend\n",
    "from mlxtend.feature_selection import SequentialFeatureSelector as SFS\n",
    "\n",
    "# lr = LinearRegression()\n",
    "from sklearn.ensemble import RandomForestRegressor\n",
    "from sklearn.ensemble import RandomForestClassifier\n",
    "lr = RandomForestClassifier()\n",
    "sfs = SFS(lr,\n",
    "          k_features=(1, len(X_train[0])),  # Select range of features to consider\n",
    "          scoring='f1',  # Use R-squared for scoring\n",
    "          cv=5) \n",
    "\n",
    "sfs = sfs.fit(X_train, y_train)\n",
    "selected_features = list(sfs.k_feature_idx_)\n",
    "print(\"Selected features indices:\", selected_features)\n",
    "\n",
    "# Transform the data to include only selected features\n",
    "X_train_selected = sfs.transform(X_train)\n",
    "X_test_selected = sfs.transform(X_test)\n",
    "\n",
    "# Fit the model on the selected features\n",
    "lr.fit(X_train_selected, y_train)\n",
    "\n",
    "# Evaluate the model on the test set\n",
    "f1 = lr.score(X_test_selected, y_test)\n",
    "f1"
   ]
  },
  {
   "cell_type": "code",
   "execution_count": 61,
   "id": "f5c664e5",
   "metadata": {},
   "outputs": [
    {
     "data": {
      "image/png": "[encoded data removed]",
      "text/plain": [
       "<Figure size 576x432 with 1 Axes>"
      ]
     },
     "metadata": {
      "needs_background": "light"
     },
     "output_type": "display_data"
    }
   ],
   "source": [
    "# Calculate the within-cluster sum of squares (WCSS) for different values of k\n",
    "from sklearn.cluster import KMeans\n",
    "import matplotlib.pyplot as plt\n",
    "\n",
    "wcss = []\n",
    "for i in range(1, 11):  # Trying different values of k from 1 to 10\n",
    "    kmeans = KMeans(n_clusters=i, init='k-means++', max_iter=300, n_init=10, random_state=42)\n",
    "    kmeans.fit(X_train)\n",
    "    wcss.append(kmeans.inertia_)\n",
    "\n",
    "# Plotting the Elbow Method graph\n",
    "plt.figure(figsize=(8, 6))\n",
    "plt.plot(range(1, 11), wcss, marker='o', linestyle='--')\n",
    "plt.title('Elbow Method')\n",
    "plt.xlabel('Number of Clusters (k)')\n",
    "plt.ylabel('Within-Cluster Sum of Squares (WCSS)')\n",
    "plt.grid(True)\n",
    "plt.show()"
   ]
  },
  {
   "cell_type": "code",
   "execution_count": 62,
   "id": "1f9a24cd",
   "metadata": {},
   "outputs": [],
   "source": [
    "#Clustering code using KNN clustering.\n",
    "\n",
    "kmeans = KMeans(n_clusters=2, random_state=42)\n",
    "\n",
    "# Fit KMeans to the data\n",
    "kmeans.fit(X_train)\n",
    "\n",
    "# Retrieve cluster labels and cluster centers\n",
    "cluster_labels = kmeans.labels_\n",
    "cluster_centers = kmeans.cluster_centers_"
   ]
  },
  {
   "cell_type": "markdown",
   "id": "dc1cdc89",
   "metadata": {},
   "source": [
    "### Write everything to file to give to Krsna. "
   ]
  },
  {
   "cell_type": "code",
   "execution_count": 64,
   "id": "24172d33",
   "metadata": {},
   "outputs": [
    {
     "data": {
      "image/png": "[encoded data removed]",
      "text/plain": [
       "<Figure size 576x432 with 1 Axes>"
      ]
     },
     "metadata": {
      "needs_background": "light"
     },
     "output_type": "display_data"
    }
   ],
   "source": [
    "# Save data and labels. \n",
    "from sklearn.manifold import TSNE\n",
    "#Plot TSNE for this data.\n",
    "tsne = TSNE(n_components=2, random_state=108)\n",
    "X_tsne = tsne.fit_transform(X_train)\n",
    "\n",
    "# Plotting the t-SNE plot with clustered data\n",
    "plt.figure(figsize=(8, 6))\n",
    "\n",
    "# Plotting points with colors representing clusters\n",
    "scatter = plt.scatter(X_tsne[:, 0], X_tsne[:, 1], c=cluster_labels, cmap='viridis')\n",
    "\n",
    "# Adding legend\n",
    "legend1 = plt.legend(*scatter.legend_elements(),\n",
    "                    loc=\"upper right\", title=\"Clusters\")\n",
    "plt.gca().add_artist(legend1)\n",
    "\n",
    "plt.title('t-SNE Plot of K-means Clustering')\n",
    "plt.xlabel('t-SNE Dimension 1')\n",
    "plt.ylabel('t-SNE Dimension 2')\n",
    "plt.show()"
   ]
  },
  {
   "cell_type": "code",
   "execution_count": null,
   "id": "7e9961c4",
   "metadata": {},
   "outputs": [],
   "source": []
  }
 ],
 "metadata": {
  "kernelspec": {
   "display_name": "Python 3",
   "language": "python",
   "name": "python3"
  },
  "language_info": {
   "codemirror_mode": {
    "name": "ipython",
    "version": 3
   },
   "file_extension": ".py",
   "mimetype": "text/x-python",
   "name": "python",
   "nbconvert_exporter": "python",
   "pygments_lexer": "ipython3",
   "version": "3.8.8"
  }
 },
 "nbformat": 4,
 "nbformat_minor": 5
}
